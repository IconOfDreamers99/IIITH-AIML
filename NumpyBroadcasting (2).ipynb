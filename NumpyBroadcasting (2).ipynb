{
 "cells": [
  {
   "cell_type": "markdown",
   "id": "9a80b2b1-2f4a-47d1-9efe-784ae5b26eb6",
   "metadata": {},
   "source": [
    "Numpy broadcasting in python\n",
    "\n",
    "A sensible way of doing elementwise operations on arrays of different(but compatible) shapes.\n",
    "\n",
    "It works with plus, minus, times, exponentiation, min/max, and many more elementwise operations."
   ]
  },
  {
   "cell_type": "markdown",
   "id": "4aa7b690-ff61-4e0e-aa9b-6c8bcef6c9f9",
   "metadata": {},
   "source": [
    "Shape Compatibility Rules:\n",
    "\n",
    "1.If x,y have a different number of dimensions, prepend 1's to the shape of the shorter.\n",
    "2.Any axis of length 1 can be repeated(broadcast) to the length of the other vector's length in the axis.\n",
    "3.All other axes must have matching lengths."
   ]
  },
  {
   "cell_type": "markdown",
   "id": "fde51d86-f032-47d7-a32d-afa639f98044",
   "metadata": {},
   "source": [
    "If the above three conditions are satisfied then we can get broadcasted shape.  "
   ]
  },
  {
   "cell_type": "code",
   "execution_count": null,
   "id": "8dec3999-41e8-44cc-8762-54cb0ca2cc51",
   "metadata": {},
   "outputs": [],
   "source": [
    "# Example 1\n",
    "\n",
    "x.shape == ( 2, 3 )\n",
    "\n",
    "y.shape == ( 2, 3 ) # compatible\n",
    "y.shape == ( 2, 1 ) # compatible\n",
    "y.shape == ( 1, 3 ) # compatible\n",
    "y.shape == ( 3, ) #(1, 3) compatible\n",
    "\n",
    "#NOT compatibles\n",
    "\n",
    "y.shape == ( 3, 2 ) # NOT compatible\n",
    "y.shape == ( 2, ) # (1, 2) NOT compatible"
   ]
  },
  {
   "cell_type": "code",
   "execution_count": null,
   "id": "dad84def-9119-4d88-8a76-ba5ec2407357",
   "metadata": {},
   "outputs": [],
   "source": [
    "# Example 2\n",
    "\n",
    "\n",
    "x.shape == ( 1000, 250, 250, 250 )\n",
    "\n",
    "y.shape == ( 1000, 250, 250, 250 ) # compatible\n",
    "y.shape == ( 1000, 1, 250, 250 ) # compatible\n",
    "y.shape == ( 1000, 1, 1, 250 ) # compatible\n",
    "y.shape == (250, 250, 250 ) # (1, 250, 250, 250) compatible\n",
    "y.shape == (250, 1 ) # (1, 1, 250, 1) compatible\n",
    "\n",
    "# in-compatible\n",
    "\n",
    "y.shape == ( 1000, 250, 250 ) # (1, 1000, 250, 250) NOT compatible\n"
   ]
  },
  {
   "cell_type": "code",
   "execution_count": null,
   "id": "18f42a1e-9e33-4f59-89a3-d248fbd77416",
   "metadata": {},
   "outputs": [],
   "source": [
    "# Example 3\n",
    "\n",
    "x.shape == ( 1, 2, 3, 5, 1, 11, 1, 17 )\n",
    "y.shape ==            (1, 7, 1, 1, 17 ) # compatible\n",
    "\n",
    "# results in shape ( 1, 2, 3, 5, 7, 11, 1, 17 )"
   ]
  },
  {
   "cell_type": "code",
   "execution_count": 1,
   "id": "e7869668-7197-490d-87eb-264553653169",
   "metadata": {},
   "outputs": [
    {
     "name": "stdout",
     "output_type": "stream",
     "text": [
      "(4,)\n",
      "(4,)\n",
      "[2 4 6 8]\n"
     ]
    }
   ],
   "source": [
    "# Examples\n",
    "import numpy as np\n",
    "a = np.array([1,2,3,4])\n",
    "b = np.array([1,2,3,4])\n",
    "\n",
    "print(a.shape)\n",
    "print(b.shape)\n",
    "print(a + b)"
   ]
  },
  {
   "cell_type": "code",
   "execution_count": 2,
   "id": "8f09dac0-ee79-404a-89b8-566937310c67",
   "metadata": {},
   "outputs": [
    {
     "name": "stdout",
     "output_type": "stream",
     "text": [
      "(3,)\n",
      "[1 2 3]\n",
      "\n",
      "(3, 1)\n",
      "[[1]\n",
      " [2]\n",
      " [3]]\n",
      "\n",
      "[[2 3 4]\n",
      " [3 4 5]\n",
      " [4 5 6]]\n"
     ]
    }
   ],
   "source": [
    "a = np.array([1,2,3])\n",
    "b = np.array([[1],[2],[3]])\n",
    "\n",
    "print(a.shape)\n",
    "print(a)\n",
    "print()\n",
    "print(b.shape)\n",
    "print(b)\n",
    "print()\n",
    "print(a + b)"
   ]
  },
  {
   "cell_type": "raw",
   "id": "201dba94-0a00-406e-850c-1ec40ae24808",
   "metadata": {},
   "source": [
    "internal process\n",
    "\n",
    "[[ (1+1) (2+1) (3+1) ]\n",
    " [ (1+2) (2+2) (3+2) ]\n",
    " [ (1+3) (2+3) (3+3) ]]"
   ]
  },
  {
   "cell_type": "code",
   "execution_count": 3,
   "id": "9b1b23ff-64d4-4ef3-8b10-153efa98585b",
   "metadata": {},
   "outputs": [
    {
     "name": "stdout",
     "output_type": "stream",
     "text": [
      "(3, 2)\n",
      "[[1 2]\n",
      " [3 4]\n",
      " [5 6]]\n",
      "(3,)\n",
      "[1 2 3]\n",
      "(2,)\n",
      "[10 20]\n",
      "Addition of a and c\n",
      "[[11 22]\n",
      " [13 24]\n",
      " [15 26]]\n"
     ]
    }
   ],
   "source": [
    "a = np.array([[1,2],[3,4],[5,6]])\n",
    "print(a.shape)\n",
    "print(a)\n",
    "\n",
    "b = np.array([1,2,3])\n",
    "print(b.shape)\n",
    "print(b)\n",
    "\n",
    "c = np.array([10,20])\n",
    "print(c.shape)\n",
    "print(c)\n",
    "\n",
    "#print(a + b) #can't broadcast since (3,2) and (1,3) are incompatible shapes\n",
    "print(\"Addition of a and c\")\n",
    "print(a + c)"
   ]
  },
  {
   "cell_type": "code",
   "execution_count": 4,
   "id": "08978ac5-b55f-4194-9f17-b66c689e3d4a",
   "metadata": {},
   "outputs": [
    {
     "name": "stdout",
     "output_type": "stream",
     "text": [
      "(3, 1)\n",
      "(3,)\n",
      "[[2 3 4]\n",
      " [3 4 5]\n",
      " [4 5 6]]\n"
     ]
    }
   ],
   "source": [
    "a = np.array([[1],[2],[3]])\n",
    "b = np.array([1,2,3])\n",
    "\n",
    "print(a.shape)\n",
    "print(b.shape)\n",
    "\n",
    "print(a+b)"
   ]
  },
  {
   "cell_type": "code",
   "execution_count": 5,
   "id": "020f9f57-3b8a-4484-ae88-ebdd8bfface4",
   "metadata": {},
   "outputs": [
    {
     "ename": "ValueError",
     "evalue": "operands could not be broadcast together with shapes (4,) (3,) ",
     "output_type": "error",
     "traceback": [
      "\u001b[1;31m---------------------------------------------------------------------------\u001b[0m",
      "\u001b[1;31mValueError\u001b[0m                                Traceback (most recent call last)",
      "Cell \u001b[1;32mIn[5], line 6\u001b[0m\n\u001b[0;32m      3\u001b[0m a \u001b[38;5;241m=\u001b[39m np\u001b[38;5;241m.\u001b[39marray([\u001b[38;5;241m1\u001b[39m,\u001b[38;5;241m2\u001b[39m,\u001b[38;5;241m3\u001b[39m,\u001b[38;5;241m4\u001b[39m])\n\u001b[0;32m      4\u001b[0m b \u001b[38;5;241m=\u001b[39m np\u001b[38;5;241m.\u001b[39marray([\u001b[38;5;241m1\u001b[39m,\u001b[38;5;241m2\u001b[39m,\u001b[38;5;241m3\u001b[39m])\n\u001b[1;32m----> 6\u001b[0m \u001b[38;5;28mprint\u001b[39m(\u001b[43ma\u001b[49m\u001b[43m \u001b[49m\u001b[38;5;241;43m+\u001b[39;49m\u001b[43m \u001b[49m\u001b[43mb\u001b[49m)\n",
      "\u001b[1;31mValueError\u001b[0m: operands could not be broadcast together with shapes (4,) (3,) "
     ]
    }
   ],
   "source": [
    "# this code gives error\n",
    "\n",
    "a = np.array([1,2,3,4])\n",
    "b = np.array([1,2,3])\n",
    "\n",
    "print(a + b)"
   ]
  },
  {
   "cell_type": "code",
   "execution_count": null,
   "id": "efd8d386-9465-4f49-9cdd-23acc575466c",
   "metadata": {},
   "outputs": [],
   "source": []
  }
 ],
 "metadata": {
  "kernelspec": {
   "display_name": "Python 3 (ipykernel)",
   "language": "python",
   "name": "python3"
  },
  "language_info": {
   "codemirror_mode": {
    "name": "ipython",
    "version": 3
   },
   "file_extension": ".py",
   "mimetype": "text/x-python",
   "name": "python",
   "nbconvert_exporter": "python",
   "pygments_lexer": "ipython3",
   "version": "3.11.4"
  }
 },
 "nbformat": 4,
 "nbformat_minor": 5
}
