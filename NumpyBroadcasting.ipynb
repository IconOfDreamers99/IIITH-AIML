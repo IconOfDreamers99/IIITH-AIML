{
 "cells": [
  {
   "cell_type": "raw",
   "id": "16b3fe3a-fab9-4d28-8127-45698ad19bd7",
   "metadata": {},
   "source": [
    "Numpy broadcasting in python\n",
    "\n",
    "A sensible way of doing elementwise operations on arrays of different(but compatible) shapes.\n",
    "\n",
    "It works with plus, minus, times, exponentiation, min/max, and many more elementwise operations."
   ]
  },
  {
   "cell_type": "markdown",
   "id": "4aa7b690-ff61-4e0e-aa9b-6c8bcef6c9f9",
   "metadata": {},
   "source": [
    "Shape Compatibility Rules:\n",
    "\n",
    "1.If x,y have a different number of dimensions, prepend 1's to the shape of the shorter.\n",
    "2.Any axis of length 1 can be repeated(broadcast) to the length of the other vector's length in the axis.\n",
    "3.All other axes must have matching lengths."
   ]
  },
  {
   "cell_type": "markdown",
   "id": "fde51d86-f032-47d7-a32d-afa639f98044",
   "metadata": {},
   "source": [
    "If the above three conditions are satisfied then we can get broadcasted shape.  "
   ]
  },
  {
   "cell_type": "raw",
   "id": "50a2c517-ddfe-41ff-b14d-1127c37c4912",
   "metadata": {},
   "source": [
    "# Example 1\n",
    "\n",
    "x.shape == ( 2, 3 )\n",
    "\n",
    "y.shape == ( 2, 3 ) # compatible\n",
    "y.shape == ( 2, 1 ) # compatible\n",
    "y.shape == ( 1, 3 ) # compatible\n",
    "y.shape == ( 3, ) #(1, 3) compatible\n",
    "\n",
    "#NOT compatibles\n",
    "\n",
    "y.shape == ( 3, 2 ) # NOT compatible\n",
    "y.shape == ( 2, ) # (1, 2) NOT compatible"
   ]
  },
  {
   "cell_type": "raw",
   "id": "294dc443-332b-45cb-be17-db539aad024f",
   "metadata": {},
   "source": [
    "# Example 2\n",
    "\n",
    "\n",
    "x.shape == ( 1000, 250, 250, 250 )\n",
    "\n",
    "y.shape == ( 1000, 250, 250, 250 ) # compatible\n",
    "y.shape == ( 1000, 1, 250, 250 ) # compatible\n",
    "y.shape == ( 1000, 1, 1, 250 ) # compatible\n",
    "y.shape == (250, 250, 250 ) # (1, 250, 250, 250) compatible\n",
    "y.shape == (250, 1 ) # (1, 1, 250, 1) compatible\n",
    "\n",
    "# in-compatible\n",
    "\n",
    "y.shape == ( 1000, 250, 250 ) # (1, 1000, 250, 250) NOT compatible\n"
   ]
  },
  {
   "cell_type": "raw",
   "id": "9dddc69d-1e79-40ef-901d-7babe25182b0",
   "metadata": {},
   "source": [
    "# Example 3\n",
    "\n",
    "x.shape == ( 1, 2, 3, 5, 1, 11, 1, 17 )\n",
    "y.shape ==            (1, 7, 1, 1, 17 ) # compatible\n",
    "\n",
    "# results in shape ( 1, 2, 3, 5, 7, 11, 1, 17 )"
   ]
  },
  {
   "cell_type": "code",
   "execution_count": 6,
   "id": "9b1b23ff-64d4-4ef3-8b10-153efa98585b",
   "metadata": {},
   "outputs": [
    {
     "ename": "ModuleNotFoundError",
     "evalue": "No module named 'numpy'",
     "output_type": "error",
     "traceback": [
      "\u001b[1;31m---------------------------------------------------------------------------\u001b[0m",
      "\u001b[1;31mModuleNotFoundError\u001b[0m                       Traceback (most recent call last)",
      "Cell \u001b[1;32mIn[6], line 1\u001b[0m\n\u001b[1;32m----> 1\u001b[0m \u001b[38;5;28;01mimport\u001b[39;00m \u001b[38;5;21;01mnumpy\u001b[39;00m \u001b[38;5;28;01mas\u001b[39;00m \u001b[38;5;21;01mnp\u001b[39;00m\n\u001b[0;32m      3\u001b[0m a \u001b[38;5;241m=\u001b[39m np\u001b[38;5;241m.\u001b[39marray([[\u001b[38;5;241m1\u001b[39m,\u001b[38;5;241m2\u001b[39m],[\u001b[38;5;241m3\u001b[39m,\u001b[38;5;241m4\u001b[39m],[\u001b[38;5;241m5\u001b[39m,\u001b[38;5;241m6\u001b[39m]])\n",
      "\u001b[1;31mModuleNotFoundError\u001b[0m: No module named 'numpy'"
     ]
    }
   ],
   "source": [
    "import numpy as np\n",
    "\n",
    "a = np.array([[1,2],[3,4],[5,6]])"
   ]
  }
 ],
 "metadata": {
  "kernelspec": {
   "display_name": "Python 3 (ipykernel)",
   "language": "python",
   "name": "python3"
  },
  "language_info": {
   "codemirror_mode": {
    "name": "ipython",
    "version": 3
   },
   "file_extension": ".py",
   "mimetype": "text/x-python",
   "name": "python",
   "nbconvert_exporter": "python",
   "pygments_lexer": "ipython3",
   "version": "3.11.4"
  }
 },
 "nbformat": 4,
 "nbformat_minor": 5
}
