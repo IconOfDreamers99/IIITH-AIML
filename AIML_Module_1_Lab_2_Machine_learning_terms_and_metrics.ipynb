{
  "nbformat": 4,
  "nbformat_minor": 0,
  "metadata": {
    "colab": {
      "provenance": [],
      "include_colab_link": true
    },
    "kernelspec": {
      "name": "python3",
      "display_name": "Python 3"
    },
    "language_info": {
      "name": "python"
    }
  },
  "cells": [
    {
      "cell_type": "markdown",
      "metadata": {
        "id": "view-in-github",
        "colab_type": "text"
      },
      "source": [
        "<a href=\"https://colab.research.google.com/github/IconOfDreamers99/IIITH-AIML/blob/main/AIML_Module_1_Lab_2_Machine_learning_terms_and_metrics.ipynb\" target=\"_parent\"><img src=\"https://colab.research.google.com/assets/colab-badge.svg\" alt=\"Open In Colab\"/></a>"
      ]
    },
    {
      "cell_type": "markdown",
      "metadata": {
        "id": "3Eu9VZbF01eq"
      },
      "source": [
        "##AIML Module 1 - Lab 2\n",
        "# Machine learning terms and metrics\n",
        "\n",
        "\n",
        " In this lab, we will show a part of the ML pipeline by extracting features, training and testing"
      ]
    },
    {
      "cell_type": "code",
      "metadata": {
        "id": "8qBvyEem0vLi"
      },
      "source": [
        "import matplotlib.pyplot as plt\n",
        "import numpy as np\n",
        "from sklearn import datasets\n",
        "# set randomseed\n",
        "rng = np.random.default_rng(seed=42)"
      ],
      "execution_count": 1,
      "outputs": []
    },
    {
      "cell_type": "markdown",
      "source": [
        "* **'matplotlib.pyplot as plt'** : this imports the 'pyplot' module from the 'matplotlib' library, which is commonly used for creating visualizations like plots and charts\n",
        "* **'numpy as np'** : this imports 'numpy' library, often abbreviated as 'np'. 'numpy' is used for numerical computations and provides support for arrays and mathematical operations.\n",
        "* **'from sklearn import datasets'** : this importsa the 'datasets' module from the 'scikit-learn' library(often reffered to as 'sklearn'). Scikit-learn is a popular machine learning library, and the 'datasets' module within it provides access to various sample satasets for practice and experimentation.\n",
        "* **'np.random.default_rng(seed=42)'** : random number generator (**'default_rng'**) from **'numpy'** is created with a specific seed value of **'42'**. setting a seed ensures that the random numbers generated will be the same every time you run the code. this is useful for reproducibility in data generation or random processes within your code."
      ],
      "metadata": {
        "id": "5DKGyfxGl5VE"
      }
    },
    {
      "cell_type": "markdown",
      "metadata": {
        "id": "u3t59g5s1HfC"
      },
      "source": [
        "In this lab, we will use the California Housing dataset. There are 20640 samples, each with 8 attributes like income of the block, age of the houses per district etc. The task is to predict the cost of the houses per district.\n",
        "\n",
        "Let us download and examine the dataset."
      ]
    },
    {
      "cell_type": "code",
      "metadata": {
        "id": "8LpqjN991GGJ",
        "colab": {
          "base_uri": "https://localhost:8080/"
        },
        "outputId": "4b4732a8-d382-4f05-a6bf-3a6696b4791f"
      },
      "source": [
        " dataset =  datasets.fetch_california_housing()\n",
        " print(dataset.DESCR)  # uncomment this if you want to know more about this dataset\n",
        " print(dataset.keys())  # if you want to know what else is there in this dataset\n",
        " dataset.target = dataset.target.astype(np.int) # so that we can classify\n",
        " print(dataset.data.shape)\n",
        " print(dataset.target.shape)"
      ],
      "execution_count": 2,
      "outputs": [
        {
          "output_type": "stream",
          "name": "stdout",
          "text": [
            ".. _california_housing_dataset:\n",
            "\n",
            "California Housing dataset\n",
            "--------------------------\n",
            "\n",
            "**Data Set Characteristics:**\n",
            "\n",
            "    :Number of Instances: 20640\n",
            "\n",
            "    :Number of Attributes: 8 numeric, predictive attributes and the target\n",
            "\n",
            "    :Attribute Information:\n",
            "        - MedInc        median income in block group\n",
            "        - HouseAge      median house age in block group\n",
            "        - AveRooms      average number of rooms per household\n",
            "        - AveBedrms     average number of bedrooms per household\n",
            "        - Population    block group population\n",
            "        - AveOccup      average number of household members\n",
            "        - Latitude      block group latitude\n",
            "        - Longitude     block group longitude\n",
            "\n",
            "    :Missing Attribute Values: None\n",
            "\n",
            "This dataset was obtained from the StatLib repository.\n",
            "https://www.dcc.fc.up.pt/~ltorgo/Regression/cal_housing.html\n",
            "\n",
            "The target variable is the median house value for California districts,\n",
            "expressed in hundreds of thousands of dollars ($100,000).\n",
            "\n",
            "This dataset was derived from the 1990 U.S. census, using one row per census\n",
            "block group. A block group is the smallest geographical unit for which the U.S.\n",
            "Census Bureau publishes sample data (a block group typically has a population\n",
            "of 600 to 3,000 people).\n",
            "\n",
            "A household is a group of people residing within a home. Since the average\n",
            "number of rooms and bedrooms in this dataset are provided per household, these\n",
            "columns may take surprisingly large values for block groups with few households\n",
            "and many empty houses, such as vacation resorts.\n",
            "\n",
            "It can be downloaded/loaded using the\n",
            ":func:`sklearn.datasets.fetch_california_housing` function.\n",
            "\n",
            ".. topic:: References\n",
            "\n",
            "    - Pace, R. Kelley and Ronald Barry, Sparse Spatial Autoregressions,\n",
            "      Statistics and Probability Letters, 33 (1997) 291-297\n",
            "\n",
            "dict_keys(['data', 'target', 'frame', 'target_names', 'feature_names', 'DESCR'])\n",
            "(20640, 8)\n",
            "(20640,)\n"
          ]
        },
        {
          "output_type": "stream",
          "name": "stderr",
          "text": [
            "<ipython-input-2-d89ecb46a347>:4: DeprecationWarning: `np.int` is a deprecated alias for the builtin `int`. To silence this warning, use `int` by itself. Doing this will not modify any behavior and is safe. When replacing `np.int`, you may wish to use e.g. `np.int64` or `np.int32` to specify the precision. If you wish to review your current use, check the release note link for additional information.\n",
            "Deprecated in NumPy 1.20; for more details and guidance: https://numpy.org/devdocs/release/1.20.0-notes.html#deprecations\n",
            "  dataset.target = dataset.target.astype(np.int) # so that we can classify\n"
          ]
        }
      ]
    },
    {
      "cell_type": "markdown",
      "source": [
        "1. **'datasets.fetch_california_housing()'** : This line of code using the **'datasets'** module from scikit-learn(sklearn) to fetch a dataset called the \"California housing dataset\". This dataset is commonly used for regression tasks, and it contains information about housing districts in California.\n",
        "<br>\n",
        "2. **'print(dataset.DESCR)'** : this line will print a description of the dataset, including information about its features, source, and usage.\n",
        "<br>\n",
        "3. **'print(dataset.keys())'** : This line will print the keys or attributes available in the dataset. These attributes typically include 'data'(the feature matrix) and 'target'(the target values), among others.\n",
        "<br>\n",
        "4. This line of code is converting the target values of the dataset from floating-point numbers to integers using Numpy :    \n",
        "  * **'dataset.target.astype(np.int)'** : It takes the 'target' attribute of the dataset, which usually contains the house prices, and converts it to integer data type using 'astype(np.int)'. This asuggests that you might be interested in training this dataset as a classification problem where you classify districts into categories ratherthan predicting precise house prices.\n",
        "  <br>\n",
        "5. These lines print the shapes of the feature matrix (data) and the target array : <br>\n",
        "  * **'dataset.data.shape'** : This line prints the shape (number of rows and columns) of the feature matrix, which contains data related to housing districts.\n",
        "  * **'dataset.target.shape'** : This line prints the shape of the target array, which contains the target values(prices or classes)."
      ],
      "metadata": {
        "id": "jul1ZGMaqU3H"
      }
    },
    {
      "cell_type": "markdown",
      "metadata": {
        "id": "iNx4174W5xRg"
      },
      "source": [
        "Here is a function for calculating the 1-nearest neighbours"
      ]
    },
    {
      "cell_type": "code",
      "metadata": {
        "id": "07zpydQj1hIQ"
      },
      "source": [
        "def NN1(traindata, trainlabel, query):\n",
        "  diff  = traindata - query  # find the difference between features. Numpy automatically takes care of the size here\n",
        "  sq = diff*diff # square the differences\n",
        "  dist = sq.sum(1) # add up the squares\n",
        "  label = trainlabel[np.argmin(dist)] # our predicted label is the label of the training data which has the least distance from the query\n",
        "  return label\n",
        "\n",
        "def NN(traindata, trainlabel, testdata):\n",
        "  # we will run nearest neighbour for each sample in the test data\n",
        "  # and collect the predicted classes in an array using list comprehension\n",
        "  predlabel = np.array([NN1(traindata, trainlabel, i) for i in testdata])\n",
        "  return predlabel"
      ],
      "execution_count": 3,
      "outputs": []
    },
    {
      "cell_type": "markdown",
      "source": [
        "1. **'NN1' Function** : <br>\n",
        "  * **'traindata'** : This parameter represents the training data, which is a numpy array containing the feature vectors of the training samples.\n",
        "  * **'trainlabel'** : This parameter represents the labels corresponding to the tringing data. It is a numpy array of class labels for the training samples.\n",
        "  * **'query'** : This parameter represents a single query point (a feature vector) for which we want to make a classification prediction.\n",
        "<br>\n",
        "  * **'diff'** calculates the element-wise difference between the training data and the query point.\n",
        "  * **'sq'** squares these differences element-wise.\n",
        "  * **'dist'** computes the sum of the squared differences along axis 1, resulting in a distance measure for each training sample.\n",
        "* **label = trainlabel[np.argmin(dist)]** # our predicted label is the label of the training data which has the least distance from the query<br><br>\n",
        "  This line finds the index of the training sample with the smallest distance to the query point using **'np.argmin(dist)'**.\n",
        "  * it then uses this index to retrive the corresponding class label from 'trainlabel', which becomes the predicted label for the query point.\n",
        "  * this function returns the predicted label for the given query point.\n",
        "<br>\n",
        "2. **'NN' Function** :\n",
        "  * 'traindata' : The training data, similar to the 'trainingdata' parameter in the 'NN1' function.\n",
        "  * 'trainlabel' : the training labels, similar to the 'trainlabel' parameter in the 'NN1' function.\n",
        "  * 'testdata' : This parameter represents a set of query points(feature vectors) for which we want to make classification predictions.\n",
        "  * ***predlabel = np.array([NN1(traindata, trainlabel, i) for i in testdata])***<br>\n",
        "  This line applies the 'NN1' function to each query point in 'testdata' using list comprehension. It iterates through each query point, computes its predicted label using the 'NN1' function, and collects the predicted labels in an array called 'predlabel'.\n",
        "  * Finally, the function returns an array of prdicted labels for all the query points in 'teatdata'.\n",
        "\n",
        "<br><br>\n",
        "**In essence, NN1 is responsible for making predictions for individual query points by finding the nearest neighbors in the training data, while NN extends this to make predictions for a set of query points. The algorithm assigns each query point the class label of its nearest neighbor in the training data, making it a simple yet effective classification method.**"
      ],
      "metadata": {
        "id": "cVHALx1jvpEo"
      }
    },
    {
      "cell_type": "markdown",
      "metadata": {
        "id": "03JktkfIGaje"
      },
      "source": [
        "We will also define a 'random classifier', which randomly allots labels to each sample"
      ]
    },
    {
      "cell_type": "code",
      "metadata": {
        "id": "fogWAtjyGhAH"
      },
      "source": [
        "def RandomClassifier(traindata, trainlabel, testdata):\n",
        "  # in reality, we don't need these arguments\n",
        "\n",
        "  classes = np.unique(trainlabel)\n",
        "  rints = rng.integers(low=0, high=len(classes), size=len(testdata))\n",
        "  predlabel = classes[rints]\n",
        "  return predlabel"
      ],
      "execution_count": 4,
      "outputs": []
    },
    {
      "cell_type": "markdown",
      "source": [
        "1. **'RandomClassifier'** is a function that simulates a random classifier. It takes three parameters as input:\n",
        "  * 'traindata' : This parameter represents the training data, which typically consist of the feature vector for training samples.\n",
        "  * 'trainlabel' : This parameter represents the labels corresponding to the training data. These labels indicate the the class or category of each training sample.\n",
        "  * 'testdata' : This parameter represents a set of test data, for which the function will make random classification predictions.\n",
        "  * ***classes = np.unique(trainlabel)***\n",
        "  * This line identifies the unique classes or categories present in the 'trainlabel' array. It uses 'np.unique(trainlabel)' to find all the distint class labels present in the training data.\n",
        "  <br>\n",
        "  * **rints = rng.integers(low = 0, high = len(classes), size = len(testdata))**\n",
        "  * This line generates random integer to simulate random classification predictions for the test data.\n",
        "    * 'low = 0' and 'high = len(classes)' : These arguments define the range from which random integers will be generated. In this case, it's from 0(inclusive) to the number of unique classes(exclusive).\n",
        "    * 'size = len(testdata)' : this specifies the number of random integers to generate, which is equal to the number of test data points.\n",
        "  * **So, 'rints' is an array of randomly selected integers representing class labels.**\n",
        "  <br>\n",
        "  * ****predlabel = classes[rints]****\n",
        "    * This line assigns class labels to the test data points based on the random integers generated in 'rints'. It uses these random integers as indices to select class labels from the 'classes' array, effectively creating random classification predictions for the test data.\n",
        "  * Finally, the function returns an array 'predlabel' containing the random classification predictions for the data.\n",
        "<br>\n",
        "***In summary, the 'RandomClassifier' function generates random class labels as predictions for a given set of test data points. It does not use any information from the training data, making it simple and unrealistic classifier primarily used for benchmarking or demonstrating the concept of random classification.***\n"
      ],
      "metadata": {
        "id": "-gnOr-XP2r0F"
      }
    },
    {
      "cell_type": "markdown",
      "metadata": {
        "id": "1Hjf1KHs7fU5"
      },
      "source": [
        "Let us define a metric 'Accuracy' to see how good our learning algorithm is. Accuracy is the ratio of the number of correctly classified samples to the total number of samples. The higher the accuracy, the better the algorithm."
      ]
    },
    {
      "cell_type": "code",
      "metadata": {
        "id": "ouuCqWU07bz-"
      },
      "source": [
        "def Accuracy(gtlabel, predlabel):\n",
        "  assert len(gtlabel)==len(predlabel), \"Length of the groundtruth labels and predicted labels should be the same\"\n",
        "  correct = (gtlabel==predlabel).sum() # count the number of times the groundtruth label is equal to the predicted label.\n",
        "  return correct/len(gtlabel)"
      ],
      "execution_count": 5,
      "outputs": []
    },
    {
      "cell_type": "markdown",
      "source": [
        "* **'gtlabel'** : Ground truth label i.e., the correct class labels or target values for a set of data points.\n",
        "* **'predlabel'** : predicted labels i.e., the class labels assigned by a classification model to the sam eset of data points.\n",
        "* **'(gtlabel == predlabel)'** : this creates a boolean array where each element is '**True**' if the predicted label matches the ground truth label for that data point, and '**False**' otherwise.\n",
        "* '**.sum()**' : This sums up the '**True**' values in the boolean array, effectively counting the number of correct predictions.\n",
        "* '**correct/len(gtlabel)**' : ration of correct predictions"
      ],
      "metadata": {
        "id": "QXvb5Nbq9TYD"
      }
    },
    {
      "cell_type": "markdown",
      "metadata": {
        "id": "4vJFwBFa9Klw"
      },
      "source": [
        "Let us make a function to split the dataset with the desired probability."
      ]
    },
    {
      "cell_type": "code",
      "metadata": {
        "id": "Ko0VzpSM2Tdi"
      },
      "source": [
        "def split(data, label, percent):\n",
        "  # generate a random number for each sample\n",
        "  rnd = rng.random(len(label))\n",
        "  split1 = rnd<percent\n",
        "  split2 = rnd>=percent\n",
        "  split1data = data[split1,:]\n",
        "  split1label = label[split1]\n",
        "  split2data = data[split2,:]\n",
        "  split2label = label[split2]\n",
        "  return split1data, split1label, split2data, split2label"
      ],
      "execution_count": 6,
      "outputs": []
    },
    {
      "cell_type": "markdown",
      "source": [
        "* '**data**' : this parameter represnts the dataset, typically a numpy array counting feature vectors for a set of samples.\n",
        "* '**label**' : This parameter represents the corresponding labels or target values for the samples in the dataset.\n",
        "* '**percent**' : This parameter is a floating-point value that specifies the percentage of data to be allocated to the first split. The remaining data will be allocated to the second split.\n",
        "* '**rng**' : intance of random number generator\n",
        "* length of label is to determine how many random numbers are generated.\n",
        "* split1 , split2 are the boolean array which seperates the samples according to percent\n",
        "* 'split1data' : contains feature vectors of the smaples that belongs to the first split.\n",
        "* 'split1label' : contains the labels of the samples that belong o the first split."
      ],
      "metadata": {
        "id": "5kz5bpSKAEPN"
      }
    },
    {
      "cell_type": "markdown",
      "metadata": {
        "id": "AcK3LEAJ_LGC"
      },
      "source": [
        "We will reserve 20% of our dataset as the test set. We will not change this portion throughout our experiments"
      ]
    },
    {
      "cell_type": "code",
      "metadata": {
        "id": "bBZkHBLJ1iU-",
        "colab": {
          "base_uri": "https://localhost:8080/"
        },
        "outputId": "e5c6f6e9-38b5-4028-ccc6-e117a0fe475d"
      },
      "source": [
        "testdata, testlabel, alltraindata, alltrainlabel = split(dataset.data, dataset.target, 25/100)\n",
        "print('Number of test samples = ', len(testlabel))\n",
        "print('Number of other samples = ', len(alltrainlabel))\n",
        "print('Percent of test data = ', len(testlabel)*100/len(dataset.target),'%')"
      ],
      "execution_count": 7,
      "outputs": [
        {
          "output_type": "stream",
          "name": "stdout",
          "text": [
            "Number of test samples =  5209\n",
            "Number of other samples =  15431\n",
            "Percent of test data =  25.237403100775193 %\n"
          ]
        }
      ]
    },
    {
      "cell_type": "markdown",
      "metadata": {
        "id": "a6Ss0Z6IAGNV"
      },
      "source": [
        "## Experiments with splits\n",
        "\n",
        "Let us reserve some of our train data as a validation set"
      ]
    },
    {
      "cell_type": "code",
      "metadata": {
        "id": "WFew2iry_7W7"
      },
      "source": [
        "traindata, trainlabel, valdata, vallabel = split(alltraindata, alltrainlabel, 80/100)"
      ],
      "execution_count": 8,
      "outputs": []
    },
    {
      "cell_type": "markdown",
      "metadata": {
        "id": "60hiu4clFN1i"
      },
      "source": [
        "What is the accuracy of our classifiers on the train dataset?"
      ]
    },
    {
      "cell_type": "code",
      "metadata": {
        "id": "DBlZDTHUFTZx",
        "colab": {
          "base_uri": "https://localhost:8080/"
        },
        "outputId": "4038f91c-93f9-4e83-a349-7b7748111135"
      },
      "source": [
        "trainpred = NN(traindata, trainlabel, traindata)\n",
        "trainAccuracy = Accuracy(trainlabel, trainpred)\n",
        "print(\"Train accuracy using nearest neighbour is \", trainAccuracy)\n",
        "\n",
        "trainpred = RandomClassifier(traindata, trainlabel, traindata)\n",
        "trainAccuracy = Accuracy(trainlabel, trainpred)\n",
        "print(\"Train accuracy using random classifier is \", trainAccuracy)"
      ],
      "execution_count": 9,
      "outputs": [
        {
          "output_type": "stream",
          "name": "stdout",
          "text": [
            "Train accuracy using nearest neighbour is  1.0\n",
            "Train accuracy using random classifier is  0.16363929926535883\n"
          ]
        }
      ]
    },
    {
      "cell_type": "markdown",
      "metadata": {
        "id": "7h08-9gJDtSy"
      },
      "source": [
        "For nearest neighbour, the train accuracy is always 1. The accuracy of the random classifier is close to 1/(number of classes) which is 0.1666 in our case.\n",
        "\n",
        "Let us predict the labels for our validation set and get the accuracy"
      ]
    },
    {
      "cell_type": "code",
      "metadata": {
        "id": "4h7bXoW_2H3v",
        "colab": {
          "base_uri": "https://localhost:8080/"
        },
        "outputId": "e271034c-f998-4457-9b10-004bb5a78198"
      },
      "source": [
        "valpred = NN(traindata, trainlabel, valdata)\n",
        "valAccuracy = Accuracy(vallabel, valpred)\n",
        "print(\"Validation accuracy using nearest neighbour is \", valAccuracy)\n",
        "\n",
        "valpred = RandomClassifier(traindata, trainlabel, valdata)\n",
        "valAccuracy = Accuracy(vallabel, valpred)\n",
        "print(\"Validation accuracy using random classifier is \", valAccuracy)"
      ],
      "execution_count": 10,
      "outputs": [
        {
          "output_type": "stream",
          "name": "stdout",
          "text": [
            "Validation accuracy using nearest neighbour is  0.3367279894875164\n",
            "Validation accuracy using random classifier is  0.17017082785808146\n"
          ]
        }
      ]
    },
    {
      "cell_type": "markdown",
      "metadata": {
        "id": "py9bLguFEjfg"
      },
      "source": [
        "Validation accuracy of nearest neighbour is considerably less than its train accuracy while the validation accuracy of random classifier is the same. However, the validation accuracy of nearest neighbour is twice that of the random classifier.\n",
        "\n",
        "Now let us try another random split and check the validation accuracy"
      ]
    },
    {
      "cell_type": "code",
      "metadata": {
        "id": "ujm3cyYzEntE",
        "colab": {
          "base_uri": "https://localhost:8080/"
        },
        "outputId": "4a8cddc1-898d-489d-f7c3-e929f4841a99"
      },
      "source": [
        "traindata, trainlabel, valdata, vallabel = split(alltraindata, alltrainlabel, 70/100)\n",
        "valpred = NN(traindata, trainlabel, valdata)\n",
        "valAccuracy = Accuracy(vallabel, valpred)\n",
        "print(\"Validation accuracy of nearest neighbour is \", valAccuracy)"
      ],
      "execution_count": 11,
      "outputs": [
        {
          "output_type": "stream",
          "name": "stdout",
          "text": [
            "Validation accuracy of nearest neighbour is  0.343011917659805\n"
          ]
        }
      ]
    },
    {
      "cell_type": "markdown",
      "metadata": {
        "id": "oSOx7U83EKie"
      },
      "source": [
        "You can run the above cell multiple times to try with different random splits.\n",
        "We notice that the accuracy is different for each run, but close together.\n",
        "\n",
        "Now let us compare it with the accuracy we get on the test dataset."
      ]
    },
    {
      "cell_type": "code",
      "metadata": {
        "id": "PNEZ5ToYBEDW",
        "colab": {
          "base_uri": "https://localhost:8080/"
        },
        "outputId": "489d87d2-26a3-4a05-d83d-d16d8cc65e11"
      },
      "source": [
        "testpred = NN(alltraindata, alltrainlabel, testdata)\n",
        "testAccuracy = Accuracy(testlabel, testpred)\n",
        "print('Test accuracy is ', testAccuracy)"
      ],
      "execution_count": 12,
      "outputs": [
        {
          "output_type": "stream",
          "name": "stdout",
          "text": [
            "Test accuracy is  0.34728354770589365\n"
          ]
        }
      ]
    },
    {
      "cell_type": "markdown",
      "metadata": {
        "id": "w3dGD531K3gH"
      },
      "source": [
        "### Try it out for yourself and answer:\n",
        "1. How is the accuracy of the validation set affected if we increase the percentage of validation set? What happens when we reduce it?\n",
        "2. How does the size of the train and validation set affect how well we can predict the accuracy on the test set using the validation set?\n",
        "3. What do you think is a good percentage to reserve for the validation set so that thest two factors are balanced?\n",
        "\n",
        "Answer for both nearest neighbour and random classifier. You can note down the values for your experiments and plot a graph using  <a href=https://matplotlib.org/stable/gallery/lines_bars_and_markers/step_demo.html#sphx-glr-gallery-lines-bars-and-markers-step-demo-py>plt.plot<href>. Check also for extreme values for splits, like 99.9% or 0.1%"
      ]
    },
    {
      "cell_type": "markdown",
      "source": [
        "***ANSWERS***\n",
        "1. CHANGE IN VALIDATION ACCURACY WITH PERCENTAGE\n",
        "\n",
        "<br>\n",
        "* validation accuracy will vary from 0.28 to 0.40 in Nearest neighbour classifier\n",
        "<br>\n",
        "* in random classifier it varies from 0.15 to 0.175"
      ],
      "metadata": {
        "id": "XNPRL0yFGwg9"
      }
    },
    {
      "cell_type": "code",
      "source": [
        "x1_vals = np.array([])\n",
        "x2_vals = np.array([])\n",
        "y_vals = np.array([])\n",
        "for p in range(0, 100, 5):\n",
        "  if p == 0 : continue\n",
        "  traindata, trainlabel, valdata, vallabel = split(alltraindata, alltrainlabel, p/100)\n",
        "  valpred = NN(traindata, trainlabel, valdata)\n",
        "  valAccuracy = Accuracy(vallabel, valpred)\n",
        "  x1_vals = np.append(x1_vals, valAccuracy)\n",
        "  valpred = RandomClassifier(traindata, trainlabel, valdata)\n",
        "  valAccuracy = Accuracy(vallabel, valpred)\n",
        "  x2_vals = np.append(x2_vals, valAccuracy)\n",
        "  y_vals = np.append(y_vals, p)\n",
        "\n",
        "plt.scatter(x1_vals, y_vals, c = 'red')\n",
        "plt.plot(x1_vals, y_vals, label = \"Nearest Neighbour\")\n",
        "plt.scatter(x2_vals, y_vals, c = 'blue')\n",
        "plt.plot(x2_vals, y_vals, label = \"Random Classifier\")\n",
        "\n",
        "plt.xlabel(\"Accuracy\")\n",
        "plt.ylabel(\"Validation set percentage\")\n",
        "plt.title(\"change in Accuracy with percentage of validation set\")\n",
        "plt.legend()\n",
        "plt.show()"
      ],
      "metadata": {
        "colab": {
          "base_uri": "https://localhost:8080/",
          "height": 472
        },
        "id": "ZGTDijZsG7HX",
        "outputId": "75257855-8fb8-4c24-f59e-1a49103c91b3"
      },
      "execution_count": 13,
      "outputs": [
        {
          "output_type": "display_data",
          "data": {
            "text/plain": [
              "<Figure size 640x480 with 1 Axes>"
            ],
            "image/png": "[encoded data removed]"
          },
          "metadata": {}
        }
      ]
    },
    {
      "cell_type": "markdown",
      "source": [
        "2. The size of the training and validation sets should strike a balance between having enough data to train a model effectively and having a sufficiently large validation set to reliably estimate the model's generalization performance. There is no one-size-fits-all answer, as the ideal sizes depend on the complexity of the problem, the amount of available data, and the specific goals of our project.\n"
      ],
      "metadata": {
        "id": "B6hZWYyxkVnr"
      }
    },
    {
      "cell_type": "markdown",
      "source": [
        "3. I suggest 20% validation set and 80% training set is balanced ratio"
      ],
      "metadata": {
        "id": "iszL2W_KlzQT"
      }
    },
    {
      "cell_type": "markdown",
      "metadata": {
        "id": "PnYvkAZLQY7h"
      },
      "source": [
        "## Multiple Splits\n",
        "\n",
        "One way to get more accurate estimates for the test accuracy is by using <b>crossvalidation</b>. Here, we will try a simple version, where we do multiple train/val splits and take the average of validation accuracies as the test accuracy estimation. Here is a function for doing this. Note that this function will take a long time to execute."
      ]
    },
    {
      "cell_type": "code",
      "metadata": {
        "id": "E4nGCUQXBTzo"
      },
      "source": [
        "# you can use this function for random classifier also\n",
        "def AverageAccuracy(alldata, alllabel, splitpercent, iterations, classifier=NN):\n",
        "  accuracy = 0\n",
        "  for ii in range(iterations):\n",
        "    traindata, trainlabel, valdata, vallabel = split(alldata, alllabel, splitpercent)\n",
        "    valpred = classifier(traindata, trainlabel, valdata)\n",
        "    accuracy += Accuracy(vallabel, valpred)\n",
        "  return accuracy/iterations # average of all accuracies"
      ],
      "execution_count": 14,
      "outputs": []
    },
    {
      "cell_type": "code",
      "metadata": {
        "id": "H3qtNar7Bbik",
        "colab": {
          "base_uri": "https://localhost:8080/"
        },
        "outputId": "a27663b4-6863-4062-a1c2-f070e10c866d"
      },
      "source": [
        "print('Average validation accuracy is ', AverageAccuracy(alltraindata, alltrainlabel, 75/100, 10, classifier=NN))\n",
        "testpred = NN(alltraindata, alltrainlabel, testdata)\n",
        "print('test accuracy is ',Accuracy(testlabel, testpred) )"
      ],
      "execution_count": 15,
      "outputs": [
        {
          "output_type": "stream",
          "name": "stdout",
          "text": [
            "Average validation accuracy is  0.33813510323122326\n",
            "test accuracy is  0.34728354770589365\n"
          ]
        }
      ]
    },
    {
      "cell_type": "markdown",
      "metadata": {
        "id": "33GIn4x5VH-d"
      },
      "source": [
        "This is a very simple way of doing cross-validation. There are many well-known algorithms for cross-validation, like k-fold cross-validation, leave-one-out etc. This will be covered in detail in a later module. For more information about cross-validation, check <a href=https://en.wikipedia.org/wiki/Cross-validation_(statistics)>Cross-validatioin (Wikipedia)</a>\n",
        "\n",
        "### Questions\n",
        "1. Does averaging the validation accuracy across multiple splits give more consistent results?\n",
        "2. Does it give more accurate estimate of test accuracy?\n",
        "3. What is the effect of the number of iterations on the estimate? Do we get a better estimate with higher iterations?\n",
        "4. Consider the results you got for the previous questions. Can we deal with a very small train dataset or validation dataset by increasing the iterations?\n"
      ]
    },
    {
      "cell_type": "markdown",
      "source": [
        "# ANSWERS\n",
        "1. yes, averaging validation accuracy across multiple splits typically gives more consistent and reliable results compared to a single split. It helps reduce the impact of random variability that can occur when a single split is used. By repeeatedly splitting the data and calculating validation accuracy, we can obtain a more stable estimate of the model's performance on unseen data.\n",
        "<div>\n",
        "2. Averaging validation accuracy across multiple splits provides a more accurate estimate of the model's generalization performance on unseen data.\n",
        "<div>\n",
        "3. The number of iterations(splits) has a significant effect on the estimate of model performance. **Increasing the number of iterations generally leads to a more reliable estimate**. With higher iterations, the estimate becomes less sensitive to the specific random data splits and provides a more accurate representation of the model's generalization performance.\n",
        "However, there is diminishing returns with increasing iterations. After a certain point, additional iterations may not significantly improve the estimate, and the computational cost may become a limiting factor.\n",
        "<div>\n",
        "4. Increasing the iterations can help mitigate the impact of a small dataset to some extent, as it allows you to explore different random splits and obtain more stable estimates.\n",
        "However, it's essential to strike a balance between the number of iterations and the size of the dataset. If the dataset is exceptionally small, increasing the iterations may not be sufficient to compensate for the lack of training data.\n",
        "In such cases, it's advisable to consider techniques like data augmentation, transfer learning, or obtaining additional data if possible to improve model performance.\n",
        ""
      ],
      "metadata": {
        "id": "GyWVNaMDudgV"
      }
    }
  ]
}